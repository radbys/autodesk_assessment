{
 "cells": [
  {
   "cell_type": "markdown",
   "metadata": {},
   "source": [
    "# Load modules"
   ]
  },
  {
   "cell_type": "code",
   "execution_count": 2,
   "metadata": {},
   "outputs": [],
   "source": [
    "import pandas as pd"
   ]
  },
  {
   "cell_type": "markdown",
   "metadata": {},
   "source": [
    "# Import data"
   ]
  },
  {
   "cell_type": "code",
   "execution_count": 4,
   "metadata": {},
   "outputs": [
    {
     "name": "stdout",
     "output_type": "stream",
     "text": [
      "                listing_id       date  review_stars  revenue\n",
      "0                 11202183 2016-09-06           1.0     3210\n",
      "1                 13594886 2016-12-11           4.0     1501\n",
      "2                 36108417 2021-07-12           2.0     4913\n",
      "3                 50247613 2022-10-20           5.0      620\n",
      "4                  3969526 2019-06-16           2.0     4295\n",
      "...                    ...        ...           ...      ...\n",
      "174507            25770647 2022-12-07           5.0     4013\n",
      "174508  727368563191104000 2023-01-19           2.0     3058\n",
      "174509            29217663 2021-10-17           3.0     3710\n",
      "174510            42065556 2021-02-21           5.0     2071\n",
      "174511            12269155 2018-12-07           1.0     3950\n",
      "\n",
      "[174512 rows x 4 columns]\n"
     ]
    }
   ],
   "source": [
    "booking_details = pd.read_excel('data/booking details-Boston.xlsx')\n",
    "listings = pd.read_excel('data/listings-Boston.xlsx')\n",
    "reviews = pd.read_excel('data/reviews-Boston.xlsx')"
   ]
  }
 ],
 "metadata": {
  "kernelspec": {
   "display_name": ".venv",
   "language": "python",
   "name": "python3"
  },
  "language_info": {
   "codemirror_mode": {
    "name": "ipython",
    "version": 3
   },
   "file_extension": ".py",
   "mimetype": "text/x-python",
   "name": "python",
   "nbconvert_exporter": "python",
   "pygments_lexer": "ipython3",
   "version": "3.11.7"
  }
 },
 "nbformat": 4,
 "nbformat_minor": 2
}
